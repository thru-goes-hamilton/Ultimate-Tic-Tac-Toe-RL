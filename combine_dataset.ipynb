{
 "cells": [
  {
   "cell_type": "code",
   "execution_count": 11,
   "metadata": {},
   "outputs": [],
   "source": [
    "import pandas as pd\n",
    "import matplotlib.pyplot as plt\n",
    "import os"
   ]
  },
  {
   "cell_type": "code",
   "execution_count": 13,
   "metadata": {},
   "outputs": [],
   "source": [
    "\n",
    "def merge_csv_to_dataframe(folder_path):\n",
    "\n",
    "    dataframes = []\n",
    "    for filename in os.listdir(folder_path):\n",
    "        if filename.endswith('.csv'):\n",
    "            file_path = os.path.join(folder_path, filename)\n",
    "            df = pd.read_csv(file_path)\n",
    "            print(filename,\" \",df[\"value_network_y\"][0])\n",
    "            dataframes.append(df)\n",
    "\n",
    "    mega_dataframe = pd.concat(dataframes, ignore_index=True)\n",
    "\n",
    "    return mega_dataframe\n"
   ]
  },
  {
   "cell_type": "code",
   "execution_count": 14,
   "metadata": {},
   "outputs": [
    {
     "name": "stdout",
     "output_type": "stream",
     "text": [
      "mcts_data1.csv   1.0\n",
      "mcts_data10.csv   1.0\n",
      "mcts_data100.csv   1.0\n",
      "mcts_data11.csv   1.0\n",
      "mcts_data12.csv   1.0\n",
      "mcts_data13.csv   1.0\n",
      "mcts_data14.csv   1.0\n",
      "mcts_data15.csv   1.0\n",
      "mcts_data16.csv   1.0\n",
      "mcts_data17.csv   1.0\n",
      "mcts_data18.csv   1.0\n",
      "mcts_data19.csv   1.0\n",
      "mcts_data2.csv   1.0\n",
      "mcts_data20.csv   1.0\n",
      "mcts_data21.csv   1.0\n",
      "mcts_data22.csv   1.0\n",
      "mcts_data23.csv   1.0\n",
      "mcts_data24.csv   1.0\n",
      "mcts_data25.csv   1.0\n",
      "mcts_data26.csv   1.0\n",
      "mcts_data27.csv   1.0\n",
      "mcts_data28.csv   1.0\n",
      "mcts_data29.csv   1.0\n",
      "mcts_data3.csv   1.0\n",
      "mcts_data30.csv   1.0\n",
      "mcts_data31.csv   1.0\n",
      "mcts_data32.csv   1.0\n",
      "mcts_data33.csv   1.0\n",
      "mcts_data34.csv   1.0\n",
      "mcts_data35.csv   1.0\n",
      "mcts_data36.csv   1.0\n",
      "mcts_data37.csv   1.0\n",
      "mcts_data38.csv   1.0\n",
      "mcts_data39.csv   1.0\n",
      "mcts_data4.csv   1.0\n",
      "mcts_data40.csv   1.0\n",
      "mcts_data41.csv   1.0\n",
      "mcts_data42.csv   1.0\n",
      "mcts_data43.csv   1.0\n",
      "mcts_data44.csv   1.0\n",
      "mcts_data45.csv   1.0\n",
      "mcts_data46.csv   1.0\n",
      "mcts_data47.csv   1.0\n",
      "mcts_data48.csv   1.0\n",
      "mcts_data49.csv   1.0\n",
      "mcts_data5.csv   1.0\n",
      "mcts_data50.csv   1.0\n",
      "mcts_data51.csv   1.0\n",
      "mcts_data52.csv   1.0\n",
      "mcts_data53.csv   1.0\n",
      "mcts_data54.csv   1.0\n",
      "mcts_data55.csv   1.0\n",
      "mcts_data56.csv   1.0\n",
      "mcts_data57.csv   1.0\n",
      "mcts_data58.csv   1.0\n",
      "mcts_data59.csv   1.0\n",
      "mcts_data6.csv   1.0\n",
      "mcts_data60.csv   1.0\n",
      "mcts_data61.csv   1.0\n",
      "mcts_data62.csv   1.0\n",
      "mcts_data63.csv   1.0\n",
      "mcts_data64.csv   1.0\n",
      "mcts_data65.csv   1.0\n",
      "mcts_data66.csv   1.0\n",
      "mcts_data67.csv   1.0\n",
      "mcts_data68.csv   1.0\n",
      "mcts_data69.csv   1.0\n",
      "mcts_data7.csv   1.0\n",
      "mcts_data70.csv   1.0\n",
      "mcts_data71.csv   0\n",
      "mcts_data72.csv   1.0\n",
      "mcts_data73.csv   1.0\n",
      "mcts_data74.csv   1.0\n",
      "mcts_data75.csv   1.0\n",
      "mcts_data76.csv   0\n",
      "mcts_data77.csv   1.0\n",
      "mcts_data78.csv   1.0\n",
      "mcts_data79.csv   1.0\n",
      "mcts_data8.csv   1.0\n",
      "mcts_data80.csv   1.0\n",
      "mcts_data85.csv   1.0\n",
      "mcts_data86.csv   1.0\n",
      "mcts_data87.csv   1.0\n",
      "mcts_data88.csv   0\n",
      "mcts_data89.csv   1.0\n",
      "mcts_data9.csv   1.0\n",
      "mcts_data90.csv   1.0\n",
      "mcts_data91.csv   1.0\n",
      "mcts_data92.csv   1.0\n",
      "mcts_data94.csv   1.0\n",
      "mcts_data95.csv   1.0\n",
      "mcts_data96.csv   1.0\n",
      "mcts_data97.csv   1.0\n",
      "mcts_data98.csv   1.0\n",
      "mcts_data99.csv   -1.0\n"
     ]
    }
   ],
   "source": [
    "folder_path = \"data/Initial data(1-100)\"\n",
    "mega_dataframe = merge_csv_to_dataframe(folder_path)\n",
    "\n",
    "# mega_dataframe.to_csv(\"merged_dataset.csv\", index=False)\n"
   ]
  },
  {
   "cell_type": "code",
   "execution_count": 6,
   "metadata": {},
   "outputs": [
    {
     "data": {
      "text/html": [
       "<div>\n",
       "<style scoped>\n",
       "    .dataframe tbody tr th:only-of-type {\n",
       "        vertical-align: middle;\n",
       "    }\n",
       "\n",
       "    .dataframe tbody tr th {\n",
       "        vertical-align: top;\n",
       "    }\n",
       "\n",
       "    .dataframe thead th {\n",
       "        text-align: right;\n",
       "    }\n",
       "</style>\n",
       "<table border=\"1\" class=\"dataframe\">\n",
       "  <thead>\n",
       "    <tr style=\"text-align: right;\">\n",
       "      <th></th>\n",
       "      <th>value_network_X</th>\n",
       "      <th>value_network_y</th>\n",
       "      <th>policy_network_X</th>\n",
       "      <th>policy_network_y</th>\n",
       "    </tr>\n",
       "  </thead>\n",
       "  <tbody>\n",
       "    <tr>\n",
       "      <th>0</th>\n",
       "      <td>[[0. 0. 0. 0. 0. 0. 0. 0. 0.]\\n [0. 0. 0. 0. 0...</td>\n",
       "      <td>1.0</td>\n",
       "      <td>[[0. 0. 0. 0. 0. 0. 0. 0. 0.]\\n [0. 0. 0. 0. 0...</td>\n",
       "      <td>[5.552893853019498e-16, 7.515024623812395e-17,...</td>\n",
       "    </tr>\n",
       "    <tr>\n",
       "      <th>1</th>\n",
       "      <td>[[ 0.  0.  0.  0.  0.  0.  0.  0.  0.]\\n [ 0. ...</td>\n",
       "      <td>1.0</td>\n",
       "      <td>[[0. 0. 0. 0. 0. 0. 0. 0. 0.]\\n [0. 0. 0. 0. 0...</td>\n",
       "      <td>[0.0, 0.0, 0.0, 0.0, 0.0, 0.0, 0.0, 0.0, 0.0, ...</td>\n",
       "    </tr>\n",
       "    <tr>\n",
       "      <th>2</th>\n",
       "      <td>[[ 0.  0.  0.  0.  0.  0.  0.  1.  0.]\\n [ 0. ...</td>\n",
       "      <td>1.0</td>\n",
       "      <td>[[ 0.  0.  0.  0.  0.  0.  0.  0.  0.]\\n [ 0. ...</td>\n",
       "      <td>[1.7270285812271669e-134, 4.2808758548818526e-...</td>\n",
       "    </tr>\n",
       "    <tr>\n",
       "      <th>3</th>\n",
       "      <td>[[ 0.  0.  0.  0.  0.  0.  0.  1.  0.]\\n [ 0. ...</td>\n",
       "      <td>1.0</td>\n",
       "      <td>[[ 0.  0.  0.  0.  0.  0.  0.  1.  0.]\\n [ 0. ...</td>\n",
       "      <td>[0.0, 0.0, 0.0, 0.0, 0.0, 0.0, 0.0, 0.0, 0.0, ...</td>\n",
       "    </tr>\n",
       "    <tr>\n",
       "      <th>4</th>\n",
       "      <td>[[ 0.  0.  0.  0.  0.  0.  1.  1.  0.]\\n [ 0. ...</td>\n",
       "      <td>1.0</td>\n",
       "      <td>[[ 0.  0.  0.  0.  0.  0.  0.  1.  0.]\\n [ 0. ...</td>\n",
       "      <td>[5.380186160021138e-32, 3.2940424157003086e-11...</td>\n",
       "    </tr>\n",
       "  </tbody>\n",
       "</table>\n",
       "</div>"
      ],
      "text/plain": [
       "                                     value_network_X  value_network_y  \\\n",
       "0  [[0. 0. 0. 0. 0. 0. 0. 0. 0.]\\n [0. 0. 0. 0. 0...              1.0   \n",
       "1  [[ 0.  0.  0.  0.  0.  0.  0.  0.  0.]\\n [ 0. ...              1.0   \n",
       "2  [[ 0.  0.  0.  0.  0.  0.  0.  1.  0.]\\n [ 0. ...              1.0   \n",
       "3  [[ 0.  0.  0.  0.  0.  0.  0.  1.  0.]\\n [ 0. ...              1.0   \n",
       "4  [[ 0.  0.  0.  0.  0.  0.  1.  1.  0.]\\n [ 0. ...              1.0   \n",
       "\n",
       "                                    policy_network_X  \\\n",
       "0  [[0. 0. 0. 0. 0. 0. 0. 0. 0.]\\n [0. 0. 0. 0. 0...   \n",
       "1  [[0. 0. 0. 0. 0. 0. 0. 0. 0.]\\n [0. 0. 0. 0. 0...   \n",
       "2  [[ 0.  0.  0.  0.  0.  0.  0.  0.  0.]\\n [ 0. ...   \n",
       "3  [[ 0.  0.  0.  0.  0.  0.  0.  1.  0.]\\n [ 0. ...   \n",
       "4  [[ 0.  0.  0.  0.  0.  0.  0.  1.  0.]\\n [ 0. ...   \n",
       "\n",
       "                                    policy_network_y  \n",
       "0  [5.552893853019498e-16, 7.515024623812395e-17,...  \n",
       "1  [0.0, 0.0, 0.0, 0.0, 0.0, 0.0, 0.0, 0.0, 0.0, ...  \n",
       "2  [1.7270285812271669e-134, 4.2808758548818526e-...  \n",
       "3  [0.0, 0.0, 0.0, 0.0, 0.0, 0.0, 0.0, 0.0, 0.0, ...  \n",
       "4  [5.380186160021138e-32, 3.2940424157003086e-11...  "
      ]
     },
     "execution_count": 6,
     "metadata": {},
     "output_type": "execute_result"
    }
   ],
   "source": [
    "mega_dataframe.head()"
   ]
  },
  {
   "cell_type": "code",
   "execution_count": 8,
   "metadata": {},
   "outputs": [
    {
     "data": {
      "text/plain": [
       "array([ 1.,  0., -1.])"
      ]
     },
     "execution_count": 8,
     "metadata": {},
     "output_type": "execute_result"
    }
   ],
   "source": [
    "mega_dataframe[\"value_network_y\"].unique()"
   ]
  },
  {
   "cell_type": "code",
   "execution_count": 9,
   "metadata": {},
   "outputs": [],
   "source": [
    "class_counts = mega_dataframe['value_network_y'].value_counts()\n"
   ]
  },
  {
   "cell_type": "code",
   "execution_count": 12,
   "metadata": {},
   "outputs": [
    {
     "data": {
      "image/png": "[encoded data removed]",
      "text/plain": [
       "<Figure size 800x800 with 1 Axes>"
      ]
     },
     "metadata": {},
     "output_type": "display_data"
    }
   ],
   "source": [
    "\n",
    "plt.figure(figsize=(8, 8))\n",
    "class_counts.plot.pie(autopct='%1.1f%%', startangle=90, cmap='viridis', ylabel='')\n",
    "plt.title(\"Distribution of Classes in 'value_network_y'\")\n",
    "plt.show()"
   ]
  },
  {
   "cell_type": "code",
   "execution_count": null,
   "metadata": {},
   "outputs": [],
   "source": []
  }
 ],
 "metadata": {
  "kernelspec": {
   "display_name": "ultimate_tictactoe_rl_venv",
   "language": "python",
   "name": "python3"
  },
  "language_info": {
   "codemirror_mode": {
    "name": "ipython",
    "version": 3
   },
   "file_extension": ".py",
   "mimetype": "text/x-python",
   "name": "python",
   "nbconvert_exporter": "python",
   "pygments_lexer": "ipython3",
   "version": "3.11.9"
  }
 },
 "nbformat": 4,
 "nbformat_minor": 2
}
